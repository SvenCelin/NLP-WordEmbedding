{
 "cells": [
  {
   "cell_type": "markdown",
   "metadata": {},
   "source": [
    "## Word Vectorization on German article dataset"
   ]
  },
  {
   "cell_type": "code",
   "execution_count": 18,
   "metadata": {},
   "outputs": [],
   "source": [
    "import nltk\n",
    "import random \n",
    "import pandas as pd\n",
    "import numpy as np\n",
    "import re\n",
    "\n",
    "from nltk.corpus import stopwords\n",
    "\n",
    "from gensim.models import Word2Vec\n",
    "from gensim.models import Phrases\n",
    "from gensim.models.phrases import Phraser\n",
    "\n",
    "import pickle"
   ]
  },
  {
   "cell_type": "markdown",
   "metadata": {},
   "source": [
    "## Exploring the Data"
   ]
  },
  {
   "cell_type": "code",
   "execution_count": 19,
   "metadata": {},
   "outputs": [],
   "source": [
    "data = pd.read_csv('articles/articles.csv', sep='\\n', names=[\"Articles\"], header=None)"
   ]
  },
  {
   "cell_type": "code",
   "execution_count": 20,
   "metadata": {},
   "outputs": [
    {
     "data": {
      "text/html": [
       "<div>\n",
       "<style scoped>\n",
       "    .dataframe tbody tr th:only-of-type {\n",
       "        vertical-align: middle;\n",
       "    }\n",
       "\n",
       "    .dataframe tbody tr th {\n",
       "        vertical-align: top;\n",
       "    }\n",
       "\n",
       "    .dataframe thead th {\n",
       "        text-align: right;\n",
       "    }\n",
       "</style>\n",
       "<table border=\"1\" class=\"dataframe\">\n",
       "  <thead>\n",
       "    <tr style=\"text-align: right;\">\n",
       "      <th></th>\n",
       "      <th>Articles</th>\n",
       "    </tr>\n",
       "  </thead>\n",
       "  <tbody>\n",
       "    <tr>\n",
       "      <th>0</th>\n",
       "      <td>Etat;Die ARD-Tochter Degeto hat sich verpflich...</td>\n",
       "    </tr>\n",
       "    <tr>\n",
       "      <th>1</th>\n",
       "      <td>Etat;App sei nicht so angenommen worden wie ge...</td>\n",
       "    </tr>\n",
       "    <tr>\n",
       "      <th>2</th>\n",
       "      <td>Etat;'Zum Welttag der Suizidprävention ist es ...</td>\n",
       "    </tr>\n",
       "    <tr>\n",
       "      <th>3</th>\n",
       "      <td>Etat;Mitarbeiter überreichten Eigentümervertre...</td>\n",
       "    </tr>\n",
       "    <tr>\n",
       "      <th>4</th>\n",
       "      <td>Etat;Service: Jobwechsel in der Kommunikations...</td>\n",
       "    </tr>\n",
       "  </tbody>\n",
       "</table>\n",
       "</div>"
      ],
      "text/plain": [
       "                                            Articles\n",
       "0  Etat;Die ARD-Tochter Degeto hat sich verpflich...\n",
       "1  Etat;App sei nicht so angenommen worden wie ge...\n",
       "2  Etat;'Zum Welttag der Suizidprävention ist es ...\n",
       "3  Etat;Mitarbeiter überreichten Eigentümervertre...\n",
       "4  Etat;Service: Jobwechsel in der Kommunikations..."
      ]
     },
     "execution_count": 20,
     "metadata": {},
     "output_type": "execute_result"
    }
   ],
   "source": [
    "data.head()"
   ]
  },
  {
   "cell_type": "code",
   "execution_count": 21,
   "metadata": {},
   "outputs": [],
   "source": [
    "data = pd.DataFrame(data.Articles.str.split(';',1).tolist(), \n",
    "                         columns = ['Category','Text'])"
   ]
  },
  {
   "cell_type": "code",
   "execution_count": 22,
   "metadata": {},
   "outputs": [
    {
     "data": {
      "text/html": [
       "<div>\n",
       "<style scoped>\n",
       "    .dataframe tbody tr th:only-of-type {\n",
       "        vertical-align: middle;\n",
       "    }\n",
       "\n",
       "    .dataframe tbody tr th {\n",
       "        vertical-align: top;\n",
       "    }\n",
       "\n",
       "    .dataframe thead th {\n",
       "        text-align: right;\n",
       "    }\n",
       "</style>\n",
       "<table border=\"1\" class=\"dataframe\">\n",
       "  <thead>\n",
       "    <tr style=\"text-align: right;\">\n",
       "      <th></th>\n",
       "      <th>Category</th>\n",
       "      <th>Text</th>\n",
       "    </tr>\n",
       "  </thead>\n",
       "  <tbody>\n",
       "    <tr>\n",
       "      <th>0</th>\n",
       "      <td>Etat</td>\n",
       "      <td>Die ARD-Tochter Degeto hat sich verpflichtet, ...</td>\n",
       "    </tr>\n",
       "    <tr>\n",
       "      <th>1</th>\n",
       "      <td>Etat</td>\n",
       "      <td>App sei nicht so angenommen worden wie geplant...</td>\n",
       "    </tr>\n",
       "    <tr>\n",
       "      <th>2</th>\n",
       "      <td>Etat</td>\n",
       "      <td>'Zum Welttag der Suizidprävention ist es Zeit,...</td>\n",
       "    </tr>\n",
       "    <tr>\n",
       "      <th>3</th>\n",
       "      <td>Etat</td>\n",
       "      <td>Mitarbeiter überreichten Eigentümervertretern ...</td>\n",
       "    </tr>\n",
       "    <tr>\n",
       "      <th>4</th>\n",
       "      <td>Etat</td>\n",
       "      <td>Service: Jobwechsel in der Kommunikationsbranc...</td>\n",
       "    </tr>\n",
       "  </tbody>\n",
       "</table>\n",
       "</div>"
      ],
      "text/plain": [
       "  Category                                               Text\n",
       "0     Etat  Die ARD-Tochter Degeto hat sich verpflichtet, ...\n",
       "1     Etat  App sei nicht so angenommen worden wie geplant...\n",
       "2     Etat  'Zum Welttag der Suizidprävention ist es Zeit,...\n",
       "3     Etat  Mitarbeiter überreichten Eigentümervertretern ...\n",
       "4     Etat  Service: Jobwechsel in der Kommunikationsbranc..."
      ]
     },
     "execution_count": 22,
     "metadata": {},
     "output_type": "execute_result"
    }
   ],
   "source": [
    "data.head()"
   ]
  },
  {
   "cell_type": "code",
   "execution_count": 23,
   "metadata": {},
   "outputs": [
    {
     "name": "stderr",
     "output_type": "stream",
     "text": [
      "[nltk_data] Downloading package stopwords to C:\\Users\\Sven-\n",
      "[nltk_data]     PC\\AppData\\Roaming\\nltk_data...\n",
      "[nltk_data]   Package stopwords is already up-to-date!\n"
     ]
    },
    {
     "data": {
      "text/plain": [
       "True"
      ]
     },
     "execution_count": 23,
     "metadata": {},
     "output_type": "execute_result"
    }
   ],
   "source": [
    "nltk.download(\"stopwords\")"
   ]
  },
  {
   "cell_type": "code",
   "execution_count": 24,
   "metadata": {},
   "outputs": [],
   "source": [
    "# get stop words from nltk\n",
    "stopWords = stopwords.words('german')\n",
    "\n",
    "# pre processing data\n",
    "def cleanData(sentence):\n",
    "    processedList = \"\"\n",
    "    \n",
    "    # convert to lowercase, ignore all special characters - keep only alpha-numericals and spaces (not removing full-stop here)\n",
    "    sentence = re.sub(r'[^a-zA-ZäöüÄÖÜß0-9\\s.]',r'',str(sentence))\n",
    "    sentence = re.sub(r'\\n',r' ',sentence)\n",
    "    \n",
    "    # remove stop words - not working for German\n",
    "    #sentence = \" \".join([word for word in sentence.split() if word not in stopWords])\n",
    "    \n",
    "    return sentence"
   ]
  },
  {
   "cell_type": "code",
   "execution_count": 25,
   "metadata": {},
   "outputs": [
    {
     "data": {
      "text/plain": [
       "'Zum Welttag der Suizidprävention ist es Zeit das alte Dogma Über Suizide schreibt man nicht zu verwerfen. Denn erst Ausnahmen von dieser Regel führen zu Nachahmungen  und wer über Suizidalität dann schweigt wenn sie nicht sensationell ist stigmatisiert die Betroffenen weiter. Halbwissen ist oft gefährlicher als Nichtwissen. WertherEffekt Ja ja schon mal gehört Wird über einen Suizid berichtet töten sich in der Folge mehr Menschen selbst. So wie damals als Goethes Briefroman Die Leiden des jungen Werthers erschien. Also Über Suizide wird nicht berichtet. Stimmt. Fast. Der 10. September ist Welttag der Suizidprävention. Wenn es darum geht Suizide zu verhinden müssen auch wir Journalisten unsere Verantwortung wahrnehmen  das bedeutet in diesem Fall sich vom alten Stehsatz Über Suizide schreibt man nicht zu verabschieden. Das Dogma des Schreibverbots hält sich unter Journalisten. Dabei gibt es drei gute Gründe dafür es aus den Redaktionen zu verbannen. Eines nach dem anderen. Tatsächlich führen bestimmte Medienberichte über Suizide zu Nachahmungen. Menschen in Krisen befinden sich oft in einer Phase quälender Orientierungslosigkeit wie es im Leitfaden zur Berichterstattung über Suizid des Wiener Kriseninterventionszentrums heißt. Wenn man über Suizid schreibt ist allerdings das Wie von weitaus größerer Bedeutung als das Ob. Viele Medienberichte über Suizide haben keinerlei messbare Auswirkung auf die Suizidstatistik. Manche Berichte treiben die Zahl der Suizide in die Höhe  und viele können Suizide verhindern. Vor allem in Wien wird zu diesem Thema seit Jahrzehnten intensiv geforscht. Gut bekannt ist die Studie zu den Wiener UBahnSuiziden Als sich Anfang der 1980er immer mehr Personen in UBahnStationen selbst töteten überzeugten Wiener Wissenschafter die großen Tageszeitungen davon die Berichterstattung massiv zurückzufahren. Die Folge war ein deutlicher Rückgang der UBahnSuizide. Seitdem hat sich in der Forschung einiges getan Wiener Wissenschafter einige davon haben schon in den 80ern an der erwähnten Studie mitgearbeitet haben 2010 im British Journal of Psychiatry einen Artikel veröffentlicht in dem sie Medienberichte analysierten und mit der amtlichen Sterbestatistik in Zusammenhang setzten. Das Ergebnis dieser und vieler anderer Studien krempelt das Dogma Über Suizide schreibt man nicht gewaltig um. Die Forscher haben den untersuchten Artikeln Eigenschaften zugewiesen Wurde die Suizidmethode erwähnt War der Text mit einem Foto illustriert Wurde der Suizid vereinfacht begründet zum Beispiel Selbstmord wegen Liebeskummer Diese Eigenschaften wurden als harmful schädlich eingeordnet. Umgekehrt codierten die Autoren auch protective items Wurde eine Expertin oder ein Experte zitiert Wurden Hilfsangebote für Menschen in Krisen angeführt Die Rolle der Journalisten präsentiert sich im Licht aktueller Studien weitaus vielschichtiger als es der viel zu einfache Stehsatz des Berichtsverbots vermuten ließe Je nachdem wie über einen Suizid berichtet wird können Medien die Zahl der Nachahmungssuizide steigern  oder senken. Jetzt könnte man sagen Berichten wir am besten gar nicht dann können wir nichts falsch machen. Dieser Zugang hat nur einen großen Haken. Denn der Stehsatz Über Suizid berichten wir nicht funktioniert nicht lückenlos. Und er filtert genau die falschen Berichte heraus. Etwa drei Personen töten sich jeden Tag in Österreich selbst über die allerwenigsten liest man in der Zeitung. Zu Recht im Sinne der Zurückhaltung allerdings meistens nicht aus Verantwortungsbewusstsein sondern weil ein so alltäglicher Tod eben keine Geschichte ist. Aber ein Prominenter Na ja das können wir doch nicht verschweigen Und weil wir ja normalerweise nicht über Suizide berichten wissen wir jetzt nicht wie wirs richtig machen. Dann wird im Boulevard über mehrere Tage im Detail ausgeschlachtet wie Robin Williams gestorben ist. Oder wie genau Ludwig Hirsch starb nacherzählt aus seiner Perspektive. Das BitterIronische In der Statistik messbare Nachahmungen sind hauptsächlich bei Prominenten feststellbar  wohl weil sich die Menschen gerne mit ihnen identifizieren. Wird der Suizid einer unbekannten Person nicht gerade pathetisch und detailreich nacherzählt ist die Identifikationsgefahr gering. Wir müssen  als Gesellschaft  über Suizid sprechen. Jedes Jahr töten sich in Österreich 1.200 bis 1.300 Menschen selbst. Suizid ist kein Thema über das man schweigen kann. Jeder dieser Menschen hatte Freunde Familie Kollegen. Das sind viele tausend neue Betroffene jedes Jahr. Weil die Selbsttötung ein Tabu ist leiden sie noch stärker. Und wer an Suizid denkt ist umso gehemmter darüber zu sprechen. Dabei wäre genau das ein so wichtiger erster Schritt in der Prävention. Wie also berichten Detaillierte Empfehlungen finden sich im erwähnten Leitfaden. Kernpunkt bleibt Zurückhaltung. Richtige Suizidberichterstattung ist nicht einfach Einerseits soll der Tod nicht vereinfacht erklärt werden  ein Suizid ist immer die Folge einer Vielzahl komplex zusammenspielender Probleme  andererseits soll die individuelle Situation nachvollziehbar sein. Schnellschüsse wie Selbstmord wegen Geldnot fallen also durch. Genauso soll der Suizid nicht moralisch verurteilt werden. Das passiert in vielen Fällen ganz unbewusst. Dauernd Suizid zu schreiben ist kein schöner Stil und widerspricht der reinen Schule gegen die Wortwiederholung. Der Begriff Selbstmord aber macht Betroffene zu Tätern und verstärkt das Stigma unter dem auch die Angehörigen von Verstorbenen leiden. Umgekehrt suggeriert das Wort Freitod eine Freiheit die in den allermeisten Fällen nicht vorherrscht Suizidale Menschen sind alles andere als frei sie sind gefangen in einer Abwärtsspirale aus der sie meist nur mit fremder Hilfe ausbrechen können. Wie oben erwähnt können Medien Nachahmungssuizide auch verhindern. Etwa indem auf Kontaktstellen für Hilfesuchende aufmerksam gemacht wird. Oder indem Mythen über Suizide bewusst angesprochen und widerlegt werden. Nein wer ankündigt sich selbst zu töten bettelt nicht nur um Aufmerksamkeit sondern ist tatsächlich in akuter Gefahr. Circa 80 Prozent jener Personen die Suizid begehen haben das vorher angekündigt. Apropos Mythen Die Suizidwelle nach dem Erscheinen des Werthers konnte letztlich nie nachgewiesen werden. Gut erforscht ist hingegen dass nach sensationsträchtigen Berichten in Massenmedien die Suizidzahlen steigen  und das Aufzeigen von Alternativen viele Menschen davon abhält sich selbst zu töten. Schreiben wir also über Suizid und über Suizidalität. Schreiben wir über eine der häufigsten Todesursachen weltweit aber schlachten wir nicht die Details von Einzelfällen aus. Berichten wir  das hat sich in der aktuellen Forschung als besonders wirkungsvoll in der Verhütung von Selbsttötungen erwiesen  über Menschen die eine Krise überwunden haben. Verzichten wir auf sensationelle Berichte und üben wir uns in Zurückhaltung bei Details. Wir erreichen täglich Millionen Menschen also nehmen wir unsere Verantwortung wahr.'"
      ]
     },
     "execution_count": 25,
     "metadata": {},
     "output_type": "execute_result"
    }
   ],
   "source": [
    "cleanData(data['Text'][2])"
   ]
  },
  {
   "cell_type": "code",
   "execution_count": 26,
   "metadata": {},
   "outputs": [],
   "source": [
    "# clean data \n",
    "data['Text'] = data['Text'].map(lambda x: cleanData(x))"
   ]
  },
  {
   "cell_type": "code",
   "execution_count": 27,
   "metadata": {},
   "outputs": [
    {
     "data": {
      "text/html": [
       "<div>\n",
       "<style scoped>\n",
       "    .dataframe tbody tr th:only-of-type {\n",
       "        vertical-align: middle;\n",
       "    }\n",
       "\n",
       "    .dataframe tbody tr th {\n",
       "        vertical-align: top;\n",
       "    }\n",
       "\n",
       "    .dataframe thead th {\n",
       "        text-align: right;\n",
       "    }\n",
       "</style>\n",
       "<table border=\"1\" class=\"dataframe\">\n",
       "  <thead>\n",
       "    <tr style=\"text-align: right;\">\n",
       "      <th></th>\n",
       "      <th>Category</th>\n",
       "      <th>Text</th>\n",
       "    </tr>\n",
       "  </thead>\n",
       "  <tbody>\n",
       "    <tr>\n",
       "      <th>0</th>\n",
       "      <td>Etat</td>\n",
       "      <td>Die ARDTochter Degeto hat sich verpflichtet ab...</td>\n",
       "    </tr>\n",
       "    <tr>\n",
       "      <th>1</th>\n",
       "      <td>Etat</td>\n",
       "      <td>App sei nicht so angenommen worden wie geplant...</td>\n",
       "    </tr>\n",
       "    <tr>\n",
       "      <th>2</th>\n",
       "      <td>Etat</td>\n",
       "      <td>Zum Welttag der Suizidprävention ist es Zeit d...</td>\n",
       "    </tr>\n",
       "    <tr>\n",
       "      <th>3</th>\n",
       "      <td>Etat</td>\n",
       "      <td>Mitarbeiter überreichten Eigentümervertretern ...</td>\n",
       "    </tr>\n",
       "    <tr>\n",
       "      <th>4</th>\n",
       "      <td>Etat</td>\n",
       "      <td>Service Jobwechsel in der Kommunikationsbranch...</td>\n",
       "    </tr>\n",
       "  </tbody>\n",
       "</table>\n",
       "</div>"
      ],
      "text/plain": [
       "  Category                                               Text\n",
       "0     Etat  Die ARDTochter Degeto hat sich verpflichtet ab...\n",
       "1     Etat  App sei nicht so angenommen worden wie geplant...\n",
       "2     Etat  Zum Welttag der Suizidprävention ist es Zeit d...\n",
       "3     Etat  Mitarbeiter überreichten Eigentümervertretern ...\n",
       "4     Etat  Service Jobwechsel in der Kommunikationsbranch..."
      ]
     },
     "execution_count": 27,
     "metadata": {},
     "output_type": "execute_result"
    }
   ],
   "source": [
    "data.head()"
   ]
  },
  {
   "cell_type": "markdown",
   "metadata": {},
   "source": [
    "# Word2Vec"
   ]
  },
  {
   "cell_type": "code",
   "execution_count": 28,
   "metadata": {},
   "outputs": [],
   "source": [
    "tmp_corpus = data['Text'].map(lambda x: x.split('.'))"
   ]
  },
  {
   "cell_type": "code",
   "execution_count": 29,
   "metadata": {},
   "outputs": [],
   "source": [
    "corpus = []\n",
    "for i in range(len(tmp_corpus)):\n",
    "    for line in tmp_corpus[i]:\n",
    "        words = [x for x in line.split()]\n",
    "        corpus.append(words)"
   ]
  },
  {
   "cell_type": "code",
   "execution_count": 30,
   "metadata": {},
   "outputs": [
    {
     "name": "stdout",
     "output_type": "stream",
     "text": [
      "Num of sentences - 258500\n",
      "Num of words - 3721509\n"
     ]
    }
   ],
   "source": [
    "num_of_sentences = len(corpus)\n",
    "num_of_words = 0\n",
    "for line in corpus:\n",
    "    num_of_words += len(line)\n",
    "\n",
    "print('Num of sentences - %s'%(num_of_sentences))\n",
    "print('Num of words - %s'%(num_of_words))"
   ]
  },
  {
   "cell_type": "code",
   "execution_count": 31,
   "metadata": {},
   "outputs": [],
   "source": [
    "def shuffle_corpus(sentences):\n",
    "    shuffled = list(sentences)\n",
    "    random.shuffle(shuffled)\n",
    "    return shuffled"
   ]
  },
  {
   "cell_type": "code",
   "execution_count": 32,
   "metadata": {
    "scrolled": true
   },
   "outputs": [],
   "source": [
    "# sg - skip gram |  window = size of the window | size = vector dimension\n",
    "size = 110\n",
    "window_size = 37 # sentences are long because they are articles\n",
    "epochs = 200\n",
    "min_count = 100\n",
    "workers = 1000\n",
    "\n",
    "# train word2vec model using gensim\n",
    "model = Word2Vec(corpus, sg=1,window=window_size,size=size,\n",
    "                 min_count=min_count,workers=workers,iter=epochs,sample=0.01)"
   ]
  },
  {
   "cell_type": "code",
   "execution_count": 33,
   "metadata": {
    "scrolled": true
   },
   "outputs": [],
   "source": [
    "model.build_vocab(sentences=shuffle_corpus(corpus),update=True)\n",
    "\n",
    "for i in range(5):\n",
    "    model.train(sentences=shuffle_corpus(corpus),epochs=30,total_examples=model.corpus_count)"
   ]
  },
  {
   "cell_type": "code",
   "execution_count": 34,
   "metadata": {},
   "outputs": [],
   "source": [
    "model.wv.save_word2vec_format(\"model/embeddings.model\", binary=True)"
   ]
  },
  {
   "cell_type": "code",
   "execution_count": 35,
   "metadata": {},
   "outputs": [],
   "source": [
    "#model.wv.save_word2vec_format(\"submissions/embeddings30-625.model\", binary=True)"
   ]
  },
  {
   "cell_type": "code",
   "execution_count": 36,
   "metadata": {},
   "outputs": [],
   "source": [
    "# save model\n",
    "#model.save('w2v_model')\n",
    "#pickle.dump(model, open('embeddings.model', 'wb'))"
   ]
  },
  {
   "cell_type": "code",
   "execution_count": 37,
   "metadata": {},
   "outputs": [],
   "source": [
    "# load word2vec model\n",
    "#model = Word2Vec.load('w2v_model')"
   ]
  },
  {
   "cell_type": "markdown",
   "metadata": {},
   "source": [
    "## Using the model"
   ]
  },
  {
   "cell_type": "markdown",
   "metadata": {},
   "source": [
    "Word2vec training is an unsupervised task, there’s no good way to objectively evaluate the result. Evaluation depends on your end application."
   ]
  },
  {
   "cell_type": "code",
   "execution_count": null,
   "metadata": {},
   "outputs": [],
   "source": [
    "model.most_similar(positive=['Mann', 'König'], negative=['Frau'], topn=1)"
   ]
  },
  {
   "cell_type": "code",
   "execution_count": null,
   "metadata": {},
   "outputs": [],
   "source": [
    "model.most_similar(positive=['glücklich', 'traurig'], negative=['nerven'], topn=2)"
   ]
  }
 ],
 "metadata": {
  "kernelspec": {
   "display_name": "Python 3",
   "language": "python",
   "name": "python3"
  },
  "language_info": {
   "codemirror_mode": {
    "name": "ipython",
    "version": 3
   },
   "file_extension": ".py",
   "mimetype": "text/x-python",
   "name": "python",
   "nbconvert_exporter": "python",
   "pygments_lexer": "ipython3",
   "version": "3.7.0"
  }
 },
 "nbformat": 4,
 "nbformat_minor": 4
}
